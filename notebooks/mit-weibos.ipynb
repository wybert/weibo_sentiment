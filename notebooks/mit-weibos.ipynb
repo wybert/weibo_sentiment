{
 "cells": [
  {
   "cell_type": "code",
   "execution_count": 2,
   "metadata": {},
   "outputs": [],
   "source": [
    "%load_ext autoreload"
   ]
  },
  {
   "cell_type": "code",
   "execution_count": 3,
   "metadata": {},
   "outputs": [],
   "source": [
    "%autoreload 2"
   ]
  },
  {
   "cell_type": "code",
   "execution_count": 4,
   "metadata": {},
   "outputs": [
    {
     "name": "stdout",
     "output_type": "stream",
     "text": [
      "/mnt/g/weibo_data/Weibo/Historical_Geotagged_Data_0.csv\n"
     ]
    }
   ],
   "source": [
    "import pandas as pd\n",
    "import os\n",
    "data_path = \"/mnt/g/weibo_data/Weibo\"\n",
    "for file_name in os.listdir(data_path):\n",
    "    file_path = os.path.join(data_path, file_name)\n",
    "    if os.path.isfile(file_path):\n",
    "        print(file_path)\n",
    "        df = pd.read_csv(file_path)\n",
    "        break\n",
    "        # df.to_csv(file_path, sep='\\t', header=None, index=False) "
   ]
  },
  {
   "cell_type": "code",
   "execution_count": 5,
   "metadata": {},
   "outputs": [
    {
     "data": {
      "text/plain": [
       "Index(['userid', 'mblogid', 'bid', 'created_at', 'city', 'poiid', 'location',\n",
       "       'source', 'text', 'emoji', 'tag', 'otherlinks', 'isLongText',\n",
       "       'poi_type', 'poi_city', 'page_title', 'latitude', 'longitude'],\n",
       "      dtype='object')"
      ]
     },
     "execution_count": 5,
     "metadata": {},
     "output_type": "execute_result"
    }
   ],
   "source": [
    "df.columns"
   ]
  },
  {
   "cell_type": "code",
   "execution_count": 7,
   "metadata": {},
   "outputs": [
    {
     "name": "stdout",
     "output_type": "stream",
     "text": [
      "use  0:00:46.611505\n"
     ]
    }
   ],
   "source": [
    "from weibo_sentiment.prepare.clean_data import clean_text_batch\n",
    "df = clean_text_batch(df)"
   ]
  },
  {
   "cell_type": "code",
   "execution_count": 8,
   "metadata": {},
   "outputs": [
    {
     "data": {
      "text/html": [
       "<div>\n",
       "<style scoped>\n",
       "    .dataframe tbody tr th:only-of-type {\n",
       "        vertical-align: middle;\n",
       "    }\n",
       "\n",
       "    .dataframe tbody tr th {\n",
       "        vertical-align: top;\n",
       "    }\n",
       "\n",
       "    .dataframe thead th {\n",
       "        text-align: right;\n",
       "    }\n",
       "</style>\n",
       "<table border=\"1\" class=\"dataframe\">\n",
       "  <thead>\n",
       "    <tr style=\"text-align: right;\">\n",
       "      <th></th>\n",
       "      <th>userid</th>\n",
       "      <th>mblogid</th>\n",
       "      <th>bid</th>\n",
       "      <th>created_at</th>\n",
       "      <th>city</th>\n",
       "      <th>poiid</th>\n",
       "      <th>location</th>\n",
       "      <th>source</th>\n",
       "      <th>text</th>\n",
       "      <th>emoji</th>\n",
       "      <th>tag</th>\n",
       "      <th>otherlinks</th>\n",
       "      <th>isLongText</th>\n",
       "      <th>poi_type</th>\n",
       "      <th>poi_city</th>\n",
       "      <th>page_title</th>\n",
       "      <th>latitude</th>\n",
       "      <th>longitude</th>\n",
       "      <th>text_clean</th>\n",
       "    </tr>\n",
       "  </thead>\n",
       "  <tbody>\n",
       "    <tr>\n",
       "      <th>0</th>\n",
       "      <td>3715416012</td>\n",
       "      <td>4655568981328201</td>\n",
       "      <td>KnjBo5zwB</td>\n",
       "      <td>2021-07-05 12:00:03</td>\n",
       "      <td>北京</td>\n",
       "      <td>8008611000000000000</td>\n",
       "      <td>北京</td>\n",
       "      <td>iPhone客户端</td>\n",
       "      <td>北京</td>\n",
       "      <td>[]</td>\n",
       "      <td>[]</td>\n",
       "      <td>[]</td>\n",
       "      <td>False</td>\n",
       "      <td>行政单元</td>\n",
       "      <td>北京</td>\n",
       "      <td>北京</td>\n",
       "      <td>39.904989</td>\n",
       "      <td>116.405285</td>\n",
       "      <td>北京</td>\n",
       "    </tr>\n",
       "    <tr>\n",
       "      <th>1</th>\n",
       "      <td>3715416012</td>\n",
       "      <td>4652315241349232</td>\n",
       "      <td>KlWXq5EZO</td>\n",
       "      <td>2021-06-26 12:30:51</td>\n",
       "      <td>北京</td>\n",
       "      <td>8008611000000000000</td>\n",
       "      <td>北京</td>\n",
       "      <td>iPhone客户端</td>\n",
       "      <td>北京</td>\n",
       "      <td>[]</td>\n",
       "      <td>[]</td>\n",
       "      <td>[]</td>\n",
       "      <td>False</td>\n",
       "      <td>行政单元</td>\n",
       "      <td>北京</td>\n",
       "      <td>北京</td>\n",
       "      <td>39.904989</td>\n",
       "      <td>116.405285</td>\n",
       "      <td>北京</td>\n",
       "    </tr>\n",
       "    <tr>\n",
       "      <th>2</th>\n",
       "      <td>3715416012</td>\n",
       "      <td>4650520177018662</td>\n",
       "      <td>Klcg9trSe</td>\n",
       "      <td>2021-06-21 13:37:55</td>\n",
       "      <td>北京</td>\n",
       "      <td>8008611000000000000</td>\n",
       "      <td>北京</td>\n",
       "      <td>iPhone客户端</td>\n",
       "      <td>和所有的烦恼说拜拜 和说有的快乐说嗨嗨 北京</td>\n",
       "      <td>[]</td>\n",
       "      <td>[]</td>\n",
       "      <td>[]</td>\n",
       "      <td>False</td>\n",
       "      <td>行政单元</td>\n",
       "      <td>北京</td>\n",
       "      <td>北京</td>\n",
       "      <td>39.904989</td>\n",
       "      <td>116.405285</td>\n",
       "      <td>和所有的烦恼说拜拜和说有的快乐说嗨嗨北京</td>\n",
       "    </tr>\n",
       "    <tr>\n",
       "      <th>3</th>\n",
       "      <td>3715416012</td>\n",
       "      <td>4649934944736102</td>\n",
       "      <td>KkX2ejS4K</td>\n",
       "      <td>2021-06-19 22:52:24</td>\n",
       "      <td>北京</td>\n",
       "      <td>8008611000000000000</td>\n",
       "      <td>北京</td>\n",
       "      <td>iPhone客户端</td>\n",
       "      <td>#日常碎片plog# 北京</td>\n",
       "      <td>[]</td>\n",
       "      <td>['#日常碎片plog#']</td>\n",
       "      <td>[]</td>\n",
       "      <td>False</td>\n",
       "      <td>行政单元</td>\n",
       "      <td>北京</td>\n",
       "      <td>北京</td>\n",
       "      <td>39.904989</td>\n",
       "      <td>116.405285</td>\n",
       "      <td>北京</td>\n",
       "    </tr>\n",
       "    <tr>\n",
       "      <th>4</th>\n",
       "      <td>3715416012</td>\n",
       "      <td>4646969560006938</td>\n",
       "      <td>KjHTm01NU</td>\n",
       "      <td>2021-06-11 18:29:01</td>\n",
       "      <td>北京</td>\n",
       "      <td>8008611000000000000</td>\n",
       "      <td>北京</td>\n",
       "      <td>iPhone客户端</td>\n",
       "      <td>间接性抑郁患者怎么办 #巨蟹座# 北京</td>\n",
       "      <td>[]</td>\n",
       "      <td>['#巨蟹座#']</td>\n",
       "      <td>[]</td>\n",
       "      <td>False</td>\n",
       "      <td>行政单元</td>\n",
       "      <td>北京</td>\n",
       "      <td>北京</td>\n",
       "      <td>39.904989</td>\n",
       "      <td>116.405285</td>\n",
       "      <td>间接性抑郁患者怎么办北京</td>\n",
       "    </tr>\n",
       "  </tbody>\n",
       "</table>\n",
       "</div>"
      ],
      "text/plain": [
       "       userid           mblogid        bid           created_at city  \\\n",
       "0  3715416012  4655568981328201  KnjBo5zwB  2021-07-05 12:00:03   北京   \n",
       "1  3715416012  4652315241349232  KlWXq5EZO  2021-06-26 12:30:51   北京   \n",
       "2  3715416012  4650520177018662  Klcg9trSe  2021-06-21 13:37:55   北京   \n",
       "3  3715416012  4649934944736102  KkX2ejS4K  2021-06-19 22:52:24   北京   \n",
       "4  3715416012  4646969560006938  KjHTm01NU  2021-06-11 18:29:01   北京   \n",
       "\n",
       "                 poiid location     source                     text emoji  \\\n",
       "0  8008611000000000000       北京  iPhone客户端                      北京     []   \n",
       "1  8008611000000000000       北京  iPhone客户端                      北京     []   \n",
       "2  8008611000000000000       北京  iPhone客户端  和所有的烦恼说拜拜 和说有的快乐说嗨嗨 北京     []   \n",
       "3  8008611000000000000       北京  iPhone客户端           #日常碎片plog# 北京     []   \n",
       "4  8008611000000000000       北京  iPhone客户端     间接性抑郁患者怎么办 #巨蟹座# 北京     []   \n",
       "\n",
       "              tag otherlinks  isLongText poi_type poi_city page_title  \\\n",
       "0              []         []       False     行政单元       北京         北京   \n",
       "1              []         []       False     行政单元       北京         北京   \n",
       "2              []         []       False     行政单元       北京         北京   \n",
       "3  ['#日常碎片plog#']         []       False     行政单元       北京         北京   \n",
       "4       ['#巨蟹座#']         []       False     行政单元       北京         北京   \n",
       "\n",
       "    latitude   longitude            text_clean  \n",
       "0  39.904989  116.405285                    北京  \n",
       "1  39.904989  116.405285                    北京  \n",
       "2  39.904989  116.405285  和所有的烦恼说拜拜和说有的快乐说嗨嗨北京  \n",
       "3  39.904989  116.405285                    北京  \n",
       "4  39.904989  116.405285          间接性抑郁患者怎么办北京  "
      ]
     },
     "execution_count": 8,
     "metadata": {},
     "output_type": "execute_result"
    }
   ],
   "source": [
    "df.head()"
   ]
  }
 ],
 "metadata": {
  "kernelspec": {
   "display_name": "weibo_process",
   "language": "python",
   "name": "python3"
  },
  "language_info": {
   "codemirror_mode": {
    "name": "ipython",
    "version": 3
   },
   "file_extension": ".py",
   "mimetype": "text/x-python",
   "name": "python",
   "nbconvert_exporter": "python",
   "pygments_lexer": "ipython3",
   "version": "3.8.16"
  },
  "orig_nbformat": 4,
  "vscode": {
   "interpreter": {
    "hash": "ff270d1f9216c153058d9acbe9499c81ebfef40ca0541438cf51cb45ccfeedd4"
   }
  }
 },
 "nbformat": 4,
 "nbformat_minor": 2
}
