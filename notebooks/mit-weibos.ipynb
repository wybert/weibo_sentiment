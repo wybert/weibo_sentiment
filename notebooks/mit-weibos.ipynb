{
 "cells": [
  {
   "cell_type": "code",
   "execution_count": 2,
   "metadata": {},
   "outputs": [],
   "source": [
    "%load_ext autoreload"
   ]
  },
  {
   "cell_type": "code",
   "execution_count": 3,
   "metadata": {},
   "outputs": [],
   "source": [
    "%autoreload 2"
   ]
  },
  {
   "attachments": {},
   "cell_type": "markdown",
   "metadata": {},
   "source": [
    "## Clean the text"
   ]
  },
  {
   "cell_type": "code",
   "execution_count": 17,
   "metadata": {},
   "outputs": [
    {
     "name": "stdout",
     "output_type": "stream",
     "text": [
      "/mnt/g/weibo_data/Weibo/Historical_Geotagged_Data_0.csv\n",
      "(1000504, 18)\n",
      "/mnt/g/weibo_data/Weibo/Historical_Geotagged_Data_1.csv\n",
      "(1044382, 18)\n",
      "/mnt/g/weibo_data/Weibo/Historical_Geotagged_Data_2.csv\n",
      "(1000455, 18)\n",
      "/mnt/g/weibo_data/Weibo/Historical_Geotagged_Data_3.csv\n",
      "(1001482, 18)\n",
      "/mnt/g/weibo_data/Weibo/Historical_Geotagged_Data_4.csv\n",
      "(1001401, 18)\n",
      "/mnt/g/weibo_data/Weibo/Historical_Geotagged_Data_5.csv\n",
      "(1001009, 18)\n",
      "/mnt/g/weibo_data/Weibo/Historical_Geotagged_Data_6.csv\n",
      "(1000381, 18)\n",
      "/mnt/g/weibo_data/Weibo/Historical_Geotagged_Data_7.csv\n"
     ]
    },
    {
     "name": "stderr",
     "output_type": "stream",
     "text": [
      "/tmp/ipykernel_5425/116996505.py:8: DtypeWarning: Columns (0,1,12) have mixed types. Specify dtype option on import or set low_memory=False.\n",
      "  df = pd.read_csv(file_path)\n"
     ]
    },
    {
     "name": "stdout",
     "output_type": "stream",
     "text": [
      "(1000483, 18)\n",
      "/mnt/g/weibo_data/Weibo/Historical_Geotagged_Data_8.csv\n",
      "(1002774, 18)\n",
      "/mnt/g/weibo_data/Weibo/Historical_Geotagged_Data_9.csv\n",
      "(902835, 18)\n"
     ]
    }
   ],
   "source": [
    "import pandas as pd\n",
    "import os\n",
    "data_path = \"/mnt/g/weibo_data/Weibo\"\n",
    "for file_name in os.listdir(data_path):\n",
    "    file_path = os.path.join(data_path, file_name)\n",
    "    if os.path.isfile(file_path):\n",
    "        print(file_path)\n",
    "        df = pd.read_csv(file_path)\n",
    "        print(df.shape)\n",
    "        # break\n",
    "        # df.to_csv(file_path, sep='\\t', header=None, index=False) "
   ]
  },
  {
   "cell_type": "code",
   "execution_count": 7,
   "metadata": {},
   "outputs": [
    {
     "name": "stdout",
     "output_type": "stream",
     "text": [
      "use  0:00:46.611505\n"
     ]
    }
   ],
   "source": [
    "from weibo_sentiment.prepare.clean_data import clean_text_batch\n",
    "df = clean_text_batch(df)"
   ]
  },
  {
   "attachments": {},
   "cell_type": "markdown",
   "metadata": {},
   "source": [
    "## Get the sentiment"
   ]
  },
  {
   "cell_type": "markdown",
   "metadata": {},
   "source": []
  },
  {
   "cell_type": "code",
   "execution_count": 11,
   "metadata": {},
   "outputs": [],
   "source": [
    "path = \"/mnt/c/Users/xif626/xiaokang/weibo_text_clean_parquet\"\n",
    "test = pd.read_parquet(os.path.join(path, \"China_2104_01-07.parquet\"))"
   ]
  },
  {
   "cell_type": "code",
   "execution_count": 14,
   "metadata": {},
   "outputs": [
    {
     "data": {
      "text/plain": [
       "(2098239, 15)"
      ]
     },
     "execution_count": 14,
     "metadata": {},
     "output_type": "execute_result"
    }
   ],
   "source": [
    "test.shape"
   ]
  }
 ],
 "metadata": {
  "kernelspec": {
   "display_name": "weibo_process",
   "language": "python",
   "name": "python3"
  },
  "language_info": {
   "codemirror_mode": {
    "name": "ipython",
    "version": 3
   },
   "file_extension": ".py",
   "mimetype": "text/x-python",
   "name": "python",
   "nbconvert_exporter": "python",
   "pygments_lexer": "ipython3",
   "version": "3.8.16"
  },
  "orig_nbformat": 4,
  "vscode": {
   "interpreter": {
    "hash": "ff270d1f9216c153058d9acbe9499c81ebfef40ca0541438cf51cb45ccfeedd4"
   }
  }
 },
 "nbformat": 4,
 "nbformat_minor": 2
}
