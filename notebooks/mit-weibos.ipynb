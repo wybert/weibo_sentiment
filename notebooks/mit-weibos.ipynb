{
 "cells": [
  {
   "cell_type": "code",
   "execution_count": 2,
   "metadata": {},
   "outputs": [
    {
     "name": "stdout",
     "output_type": "stream",
     "text": [
      "/mnt/g/weibo_data/Weibo/Historical_Geotagged_Data_0.csv\n"
     ]
    }
   ],
   "source": [
    "import pandas as pd\n",
    "import os\n",
    "data_path = \"/mnt/g/weibo_data/Weibo\"\n",
    "for file_name in os.listdir(data_path):\n",
    "    file_path = os.path.join(data_path, file_name)\n",
    "    if os.path.isfile(file_path):\n",
    "        print(file_path)\n",
    "        df = pd.read_csv(file_path)\n",
    "        break\n",
    "        # df.to_csv(file_path, sep='\\t', header=None, index=False) "
   ]
  },
  {
   "cell_type": "code",
   "execution_count": 4,
   "metadata": {},
   "outputs": [
    {
     "data": {
      "text/plain": [
       "Index(['userid', 'mblogid', 'bid', 'created_at', 'city', 'poiid', 'location',\n",
       "       'source', 'text', 'emoji', 'tag', 'otherlinks', 'isLongText',\n",
       "       'poi_type', 'poi_city', 'page_title', 'latitude', 'longitude'],\n",
       "      dtype='object')"
      ]
     },
     "execution_count": 4,
     "metadata": {},
     "output_type": "execute_result"
    }
   ],
   "source": [
    "df.columns"
   ]
  },
  {
   "cell_type": "code",
   "execution_count": 7,
   "metadata": {},
   "outputs": [
    {
     "ename": "ImportError",
     "evalue": "attempted relative import with no known parent package",
     "output_type": "error",
     "traceback": [
      "\u001b[0;31m---------------------------------------------------------------------------\u001b[0m",
      "\u001b[0;31mImportError\u001b[0m                               Traceback (most recent call last)",
      "Cell \u001b[0;32mIn [7], line 1\u001b[0m\n\u001b[0;32m----> 1\u001b[0m \u001b[39mfrom\u001b[39;00m \u001b[39m.\u001b[39;00m\u001b[39m.\u001b[39;00m\u001b[39mweibo\u001b[39;00m\u001b[39m.\u001b[39;00m\u001b[39mclean_data\u001b[39;00m \u001b[39mimport\u001b[39;00m clean_text_batch\n\u001b[1;32m      2\u001b[0m df \u001b[39m=\u001b[39m clean_text_batch(df)\n",
      "\u001b[0;31mImportError\u001b[0m: attempted relative import with no known parent package"
     ]
    }
   ],
   "source": [
    "from ..weibo.clean_data import clean_text_batch\n",
    "df = clean_text_batch(df)"
   ]
  }
 ],
 "metadata": {
  "kernelspec": {
   "display_name": "gpu",
   "language": "python",
   "name": "python3"
  },
  "language_info": {
   "codemirror_mode": {
    "name": "ipython",
    "version": 3
   },
   "file_extension": ".py",
   "mimetype": "text/x-python",
   "name": "python",
   "nbconvert_exporter": "python",
   "pygments_lexer": "ipython3",
   "version": "3.9.13"
  },
  "orig_nbformat": 4,
  "vscode": {
   "interpreter": {
    "hash": "2e4ddbb9ea09f394907e05082f3310c4ddf5122efc6670d8ec28244c215b823b"
   }
  }
 },
 "nbformat": 4,
 "nbformat_minor": 2
}
